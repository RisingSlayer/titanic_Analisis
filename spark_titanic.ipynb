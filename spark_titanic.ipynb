{
 "cells": [
  {
   "cell_type": "markdown",
   "id": "83c516a2",
   "metadata": {},
   "source": [
    "## Lectura de datos"
   ]
  },
  {
   "cell_type": "code",
   "execution_count": 1,
   "id": "f6d62754",
   "metadata": {},
   "outputs": [],
   "source": [
    "from pyspark.sql.functions import *\n",
    "import numpy as np\n",
    "import pandas as pd"
   ]
  },
  {
   "cell_type": "code",
   "execution_count": 2,
   "id": "2e1a76aa",
   "metadata": {},
   "outputs": [],
   "source": [
    "from pyspark.sql import SparkSession"
   ]
  },
  {
   "cell_type": "code",
   "execution_count": 3,
   "id": "a243f6c4",
   "metadata": {},
   "outputs": [
    {
     "data": {
      "text/html": [
       "\n",
       "            <div>\n",
       "                <p><b>SparkSession - in-memory</b></p>\n",
       "                \n",
       "        <div>\n",
       "            <p><b>SparkContext</b></p>\n",
       "\n",
       "            <p><a href=\"http://DESKTOP-CO4QQ66:4042\">Spark UI</a></p>\n",
       "\n",
       "            <dl>\n",
       "              <dt>Version</dt>\n",
       "                <dd><code>v3.5.0</code></dd>\n",
       "              <dt>Master</dt>\n",
       "                <dd><code>local[*]</code></dd>\n",
       "              <dt>AppName</dt>\n",
       "                <dd><code>pyspark-shell</code></dd>\n",
       "            </dl>\n",
       "        </div>\n",
       "        \n",
       "            </div>\n",
       "        "
      ],
      "text/plain": [
       "<pyspark.sql.session.SparkSession at 0x2321ef16d90>"
      ]
     },
     "execution_count": 3,
     "metadata": {},
     "output_type": "execute_result"
    }
   ],
   "source": [
    "spark = SparkSession.builder.master(\"local[*]\").getOrCreate()\n",
    "spark"
   ]
  },
  {
   "cell_type": "code",
   "execution_count": 4,
   "id": "ae5a8c19",
   "metadata": {},
   "outputs": [],
   "source": [
    "PATH_DATA = \"C:/Users/Acer/Desktop/Proyecto/Jupyter\""
   ]
  },
  {
   "cell_type": "code",
   "execution_count": 5,
   "id": "143e9991",
   "metadata": {},
   "outputs": [],
   "source": [
    "df = spark.read.csv(PATH_DATA + '/titanic.csv', sep=',', header=True, inferSchema=True)"
   ]
  },
  {
   "cell_type": "markdown",
   "id": "bf2f6225",
   "metadata": {},
   "source": [
    "## Comprobar lectura correcta del dataset"
   ]
  },
  {
   "cell_type": "code",
   "execution_count": 6,
   "id": "8feb9649",
   "metadata": {},
   "outputs": [
    {
     "name": "stdout",
     "output_type": "stream",
     "text": [
      "+--------+------+--------------------+------+----+-----------------------+-----------------------+-------+\n",
      "|Survived|Pclass|                Name|   Sex| Age|Siblings/Spouses Aboard|Parents/Children Aboard|   Fare|\n",
      "+--------+------+--------------------+------+----+-----------------------+-----------------------+-------+\n",
      "|       0|     3|Mr. Owen Harris B...|  male|22.0|                      1|                      0|   7.25|\n",
      "|       1|     1|Mrs. John Bradley...|female|38.0|                      1|                      0|71.2833|\n",
      "|       1|     3|Miss. Laina Heikk...|female|26.0|                      0|                      0|  7.925|\n",
      "|       1|     1|Mrs. Jacques Heat...|female|35.0|                      1|                      0|   53.1|\n",
      "|       0|     3|Mr. William Henry...|  male|35.0|                      0|                      0|   8.05|\n",
      "|       0|     3|     Mr. James Moran|  male|27.0|                      0|                      0| 8.4583|\n",
      "|       0|     1|Mr. Timothy J McC...|  male|54.0|                      0|                      0|51.8625|\n",
      "|       0|     3|Master. Gosta Leo...|  male| 2.0|                      3|                      1| 21.075|\n",
      "|       1|     3|Mrs. Oscar W (Eli...|female|27.0|                      0|                      2|11.1333|\n",
      "|       1|     2|Mrs. Nicholas (Ad...|female|14.0|                      1|                      0|30.0708|\n",
      "|       1|     3|Miss. Marguerite ...|female| 4.0|                      1|                      1|   16.7|\n",
      "|       1|     1|Miss. Elizabeth B...|female|58.0|                      0|                      0|  26.55|\n",
      "|       0|     3|Mr. William Henry...|  male|20.0|                      0|                      0|   8.05|\n",
      "|       0|     3|Mr. Anders Johan ...|  male|39.0|                      1|                      5| 31.275|\n",
      "|       0|     3|Miss. Hulda Amand...|female|14.0|                      0|                      0| 7.8542|\n",
      "|       1|     2|Mrs. (Mary D King...|female|55.0|                      0|                      0|   16.0|\n",
      "|       0|     3| Master. Eugene Rice|  male| 2.0|                      4|                      1| 29.125|\n",
      "|       1|     2|Mr. Charles Eugen...|  male|23.0|                      0|                      0|   13.0|\n",
      "|       0|     3|Mrs. Julius (Emel...|female|31.0|                      1|                      0|   18.0|\n",
      "|       1|     3|Mrs. Fatima Masse...|female|22.0|                      0|                      0|  7.225|\n",
      "+--------+------+--------------------+------+----+-----------------------+-----------------------+-------+\n",
      "only showing top 20 rows\n",
      "\n"
     ]
    }
   ],
   "source": [
    "df.show()"
   ]
  },
  {
   "cell_type": "code",
   "execution_count": 7,
   "id": "225099e4",
   "metadata": {},
   "outputs": [
    {
     "name": "stdout",
     "output_type": "stream",
     "text": [
      "root\n",
      " |-- Survived: integer (nullable = true)\n",
      " |-- Pclass: integer (nullable = true)\n",
      " |-- Name: string (nullable = true)\n",
      " |-- Sex: string (nullable = true)\n",
      " |-- Age: double (nullable = true)\n",
      " |-- Siblings/Spouses Aboard: integer (nullable = true)\n",
      " |-- Parents/Children Aboard: integer (nullable = true)\n",
      " |-- Fare: double (nullable = true)\n",
      "\n"
     ]
    }
   ],
   "source": [
    "df.printSchema()"
   ]
  },
  {
   "cell_type": "code",
   "execution_count": 8,
   "id": "53964145",
   "metadata": {},
   "outputs": [
    {
     "data": {
      "text/plain": [
       "887"
      ]
     },
     "execution_count": 8,
     "metadata": {},
     "output_type": "execute_result"
    }
   ],
   "source": [
    "df.count()"
   ]
  },
  {
   "cell_type": "code",
   "execution_count": 9,
   "id": "58a35836",
   "metadata": {},
   "outputs": [
    {
     "name": "stdout",
     "output_type": "stream",
     "text": [
      "+-------+-------------------+------------------+--------------------+------+------------------+-----------------------+-----------------------+-----------------+\n",
      "|summary|           Survived|            Pclass|                Name|   Sex|               Age|Siblings/Spouses Aboard|Parents/Children Aboard|             Fare|\n",
      "+-------+-------------------+------------------+--------------------+------+------------------+-----------------------+-----------------------+-----------------+\n",
      "|  count|                887|               887|                 887|   887|               887|                    887|                    887|              887|\n",
      "|   mean| 0.3855693348365276| 2.305524239007892|                NULL|  NULL|29.471443066516347|     0.5253664036076663|     0.3833145434047351|32.30542018038328|\n",
      "| stddev|0.48700411775101266|0.8366620036697728|                NULL|  NULL|14.121908405462552|      1.104668553867569|     0.8074659070316833|49.78204040017391|\n",
      "|    min|                  0|                 1|Capt. Edward Giff...|female|              0.42|                      0|                      0|              0.0|\n",
      "|    max|                  1|                 3|the Countess. of ...|  male|              80.0|                      8|                      6|         512.3292|\n",
      "+-------+-------------------+------------------+--------------------+------+------------------+-----------------------+-----------------------+-----------------+\n",
      "\n"
     ]
    }
   ],
   "source": [
    "df.describe().show()"
   ]
  },
  {
   "cell_type": "code",
   "execution_count": 10,
   "id": "09de9ecf",
   "metadata": {},
   "outputs": [
    {
     "name": "stdout",
     "output_type": "stream",
     "text": [
      "+--------+\n",
      "|Survived|\n",
      "+--------+\n",
      "|       0|\n",
      "|       1|\n",
      "|       1|\n",
      "|       1|\n",
      "|       0|\n",
      "|       0|\n",
      "|       0|\n",
      "|       0|\n",
      "|       1|\n",
      "|       1|\n",
      "|       1|\n",
      "|       1|\n",
      "|       0|\n",
      "|       0|\n",
      "|       0|\n",
      "|       1|\n",
      "|       0|\n",
      "|       1|\n",
      "|       0|\n",
      "|       1|\n",
      "+--------+\n",
      "only showing top 20 rows\n",
      "\n"
     ]
    }
   ],
   "source": [
    "df.select(\"Survived\").show()"
   ]
  },
  {
   "cell_type": "code",
   "execution_count": 11,
   "id": "d42090a5",
   "metadata": {},
   "outputs": [
    {
     "name": "stdout",
     "output_type": "stream",
     "text": [
      "+--------+-----+\n",
      "|Survived|count|\n",
      "+--------+-----+\n",
      "|       1|  342|\n",
      "|       0|  545|\n",
      "+--------+-----+\n",
      "\n"
     ]
    }
   ],
   "source": [
    "df.groupBy(\"Survived\").count().show()"
   ]
  },
  {
   "cell_type": "markdown",
   "id": "ec0065ba",
   "metadata": {},
   "source": [
    "## Comprobar dimensiones del dataset"
   ]
  },
  {
   "cell_type": "markdown",
   "id": "a5681444",
   "metadata": {},
   "source": [
    "### Check dataset dimensions"
   ]
  },
  {
   "cell_type": "code",
   "execution_count": 12,
   "id": "a7c8ce93",
   "metadata": {},
   "outputs": [
    {
     "name": "stdout",
     "output_type": "stream",
     "text": [
      "Número de filas: 887\n"
     ]
    }
   ],
   "source": [
    "# Número de filas\n",
    "num_rows = df.count()\n",
    "print(f\"Número de filas: {num_rows}\")"
   ]
  },
  {
   "cell_type": "code",
   "execution_count": 13,
   "id": "c5a72456",
   "metadata": {},
   "outputs": [
    {
     "name": "stdout",
     "output_type": "stream",
     "text": [
      "Número de columnas: 8\n"
     ]
    }
   ],
   "source": [
    "# Número de columnas\n",
    "num_columns = len(df.columns)\n",
    "print(f\"Número de columnas: {num_columns}\")"
   ]
  },
  {
   "cell_type": "markdown",
   "id": "222ff001",
   "metadata": {},
   "source": [
    "### Estudiar balanceo del dataset (sobre la variable target)"
   ]
  },
  {
   "cell_type": "code",
   "execution_count": 14,
   "id": "2a3a6423",
   "metadata": {},
   "outputs": [],
   "source": [
    "# Contar la cantidad de sobrevivientes (Survived = 1) y no sobrevivientes (Survived = 0)\n",
    "survived_count = df.filter(df[\"Survived\"] == 1).count()\n",
    "not_survived_count = df.filter(df[\"Survived\"] == 0).count()"
   ]
  },
  {
   "cell_type": "code",
   "execution_count": 15,
   "id": "c9f96d49",
   "metadata": {},
   "outputs": [
    {
     "name": "stdout",
     "output_type": "stream",
     "text": [
      "Cantidad de sobrevivientes: 342\n",
      "Cantidad de no sobrevivientes: 545\n"
     ]
    }
   ],
   "source": [
    "# Imprimir los resultados\n",
    "print(f\"Cantidad de sobrevivientes: {survived_count}\")\n",
    "print(f\"Cantidad de no sobrevivientes: {not_survived_count}\")"
   ]
  },
  {
   "cell_type": "code",
   "execution_count": 16,
   "id": "dfd75d79",
   "metadata": {},
   "outputs": [
    {
     "name": "stdout",
     "output_type": "stream",
     "text": [
      "Proporción de sobrevivientes: 38.56%\n",
      "Proporción de no sobrevivientes: 61.44%\n"
     ]
    }
   ],
   "source": [
    "# Calcular la proporción de sobrevivientes y no sobrevivientes en el dataset\n",
    "survival_ratio = survived_count / num_rows\n",
    "not_survival_ratio = not_survived_count / num_rows\n",
    "\n",
    "print(f\"Proporción de sobrevivientes: {survival_ratio:.2%}\")\n",
    "print(f\"Proporción de no sobrevivientes: {not_survival_ratio:.2%}\")"
   ]
  },
  {
   "cell_type": "markdown",
   "id": "3cb4548f",
   "metadata": {},
   "source": [
    "# Data Wrangling"
   ]
  },
  {
   "cell_type": "markdown",
   "id": "4268adb1",
   "metadata": {},
   "source": [
    "### Estudio de los formatos de las variables"
   ]
  },
  {
   "cell_type": "code",
   "execution_count": 17,
   "id": "c34ca70c",
   "metadata": {},
   "outputs": [
    {
     "name": "stdout",
     "output_type": "stream",
     "text": [
      "+--------+------+--------------------+------+----+-----------------------+-----------------------+-------+\n",
      "|Survived|Pclass|                Name|   Sex| Age|Siblings/Spouses Aboard|Parents/Children Aboard|   Fare|\n",
      "+--------+------+--------------------+------+----+-----------------------+-----------------------+-------+\n",
      "|       0|     3|Mr. Owen Harris B...|  male|22.0|                      1|                      0|   7.25|\n",
      "|       1|     1|Mrs. John Bradley...|female|38.0|                      1|                      0|71.2833|\n",
      "|       1|     3|Miss. Laina Heikk...|female|26.0|                      0|                      0|  7.925|\n",
      "|       1|     1|Mrs. Jacques Heat...|female|35.0|                      1|                      0|   53.1|\n",
      "|       0|     3|Mr. William Henry...|  male|35.0|                      0|                      0|   8.05|\n",
      "|       0|     3|     Mr. James Moran|  male|27.0|                      0|                      0| 8.4583|\n",
      "|       0|     1|Mr. Timothy J McC...|  male|54.0|                      0|                      0|51.8625|\n",
      "|       0|     3|Master. Gosta Leo...|  male| 2.0|                      3|                      1| 21.075|\n",
      "|       1|     3|Mrs. Oscar W (Eli...|female|27.0|                      0|                      2|11.1333|\n",
      "|       1|     2|Mrs. Nicholas (Ad...|female|14.0|                      1|                      0|30.0708|\n",
      "|       1|     3|Miss. Marguerite ...|female| 4.0|                      1|                      1|   16.7|\n",
      "|       1|     1|Miss. Elizabeth B...|female|58.0|                      0|                      0|  26.55|\n",
      "|       0|     3|Mr. William Henry...|  male|20.0|                      0|                      0|   8.05|\n",
      "|       0|     3|Mr. Anders Johan ...|  male|39.0|                      1|                      5| 31.275|\n",
      "|       0|     3|Miss. Hulda Amand...|female|14.0|                      0|                      0| 7.8542|\n",
      "|       1|     2|Mrs. (Mary D King...|female|55.0|                      0|                      0|   16.0|\n",
      "|       0|     3| Master. Eugene Rice|  male| 2.0|                      4|                      1| 29.125|\n",
      "|       1|     2|Mr. Charles Eugen...|  male|23.0|                      0|                      0|   13.0|\n",
      "|       0|     3|Mrs. Julius (Emel...|female|31.0|                      1|                      0|   18.0|\n",
      "|       1|     3|Mrs. Fatima Masse...|female|22.0|                      0|                      0|  7.225|\n",
      "+--------+------+--------------------+------+----+-----------------------+-----------------------+-------+\n",
      "only showing top 20 rows\n",
      "\n",
      "root\n",
      " |-- Survived: integer (nullable = true)\n",
      " |-- Pclass: integer (nullable = true)\n",
      " |-- Name: string (nullable = true)\n",
      " |-- Sex: string (nullable = true)\n",
      " |-- Age: double (nullable = true)\n",
      " |-- Siblings/Spouses Aboard: integer (nullable = true)\n",
      " |-- Parents/Children Aboard: integer (nullable = true)\n",
      " |-- Fare: double (nullable = true)\n",
      "\n",
      "+-------+-------------------+------------------+--------------------+------+------------------+-----------------------+-----------------------+-----------------+\n",
      "|summary|           Survived|            Pclass|                Name|   Sex|               Age|Siblings/Spouses Aboard|Parents/Children Aboard|             Fare|\n",
      "+-------+-------------------+------------------+--------------------+------+------------------+-----------------------+-----------------------+-----------------+\n",
      "|  count|                887|               887|                 887|   887|               887|                    887|                    887|              887|\n",
      "|   mean| 0.3855693348365276| 2.305524239007892|                NULL|  NULL|29.471443066516347|     0.5253664036076663|     0.3833145434047351|32.30542018038328|\n",
      "| stddev|0.48700411775101266|0.8366620036697728|                NULL|  NULL|14.121908405462552|      1.104668553867569|     0.8074659070316833|49.78204040017391|\n",
      "|    min|                  0|                 1|Capt. Edward Giff...|female|              0.42|                      0|                      0|              0.0|\n",
      "|    max|                  1|                 3|the Countess. of ...|  male|              80.0|                      8|                      6|         512.3292|\n",
      "+-------+-------------------+------------------+--------------------+------+------------------+-----------------------+-----------------------+-----------------+\n",
      "\n"
     ]
    }
   ],
   "source": [
    "#Exploración inicial del dataset\n",
    "# Ver las primeras filas del dataset\n",
    "df.show()\n",
    "\n",
    "# Obtener información sobre el esquema de las columnas\n",
    "df.printSchema()\n",
    "\n",
    "# Resumen estadístico de las columnas numéricas\n",
    "df.describe().show()"
   ]
  },
  {
   "cell_type": "code",
   "execution_count": 18,
   "id": "f06c0930",
   "metadata": {},
   "outputs": [
    {
     "name": "stdout",
     "output_type": "stream",
     "text": [
      "Cantidad de sobrevivientes: 342\n",
      "Cantidad de no sobrevivientes: 545\n"
     ]
    }
   ],
   "source": [
    "# Análisis de la variable objetivo (Survived)\n",
    "# Contar la cantidad de sobrevivientes y no sobrevivientes\n",
    "survived_count = df.filter(df[\"Survived\"] == 1).count()\n",
    "not_survived_count = df.filter(df[\"Survived\"] == 0).count()\n",
    "\n",
    "print(f\"Cantidad de sobrevivientes: {survived_count}\")\n",
    "print(f\"Cantidad de no sobrevivientes: {not_survived_count}\")"
   ]
  },
  {
   "cell_type": "code",
   "execution_count": 19,
   "id": "0f799659",
   "metadata": {},
   "outputs": [
    {
     "name": "stdout",
     "output_type": "stream",
     "text": [
      "+------+\n",
      "|Pclass|\n",
      "+------+\n",
      "|     1|\n",
      "|     3|\n",
      "|     2|\n",
      "+------+\n",
      "\n"
     ]
    }
   ],
   "source": [
    "# Análisis de las variables categóricas\n",
    "# Contar los valores únicos en las variables categóricas (por ejemplo, Pclass)\n",
    "df.select(\"Pclass\").distinct().show()"
   ]
  },
  {
   "cell_type": "code",
   "execution_count": 20,
   "id": "8efdb380",
   "metadata": {},
   "outputs": [
    {
     "data": {
      "image/png": "[encoded data removed]",
      "text/plain": [
       "<Figure size 640x480 with 1 Axes>"
      ]
     },
     "metadata": {},
     "output_type": "display_data"
    }
   ],
   "source": [
    "#Análisis de las variables numéricas\n",
    "# Histograma de la edad\n",
    "import matplotlib.pyplot as plt\n",
    "\n",
    "age_data = df.select(\"Age\").filter(df[\"Age\"].isNotNull()).toPandas()\n",
    "plt.hist(age_data[\"Age\"], bins=20)\n",
    "plt.xlabel(\"Edad\")\n",
    "plt.ylabel(\"Frecuencia\")\n",
    "plt.title(\"Distribución de Edades\")\n",
    "plt.show()"
   ]
  },
  {
   "cell_type": "code",
   "execution_count": 21,
   "id": "73b98d7b",
   "metadata": {},
   "outputs": [
    {
     "name": "stdout",
     "output_type": "stream",
     "text": [
      "+------------------+\n",
      "|corr(Pclass, Fare)|\n",
      "+------------------+\n",
      "|-0.548919355485448|\n",
      "+------------------+\n",
      "\n",
      "+---------------+---+---+\n",
      "|Pclass_Survived|  0|  1|\n",
      "+---------------+---+---+\n",
      "|              3|368|119|\n",
      "|              1| 80|136|\n",
      "|              2| 97| 87|\n",
      "+---------------+---+---+\n",
      "\n"
     ]
    }
   ],
   "source": [
    "#Análisis de relaciones entre variables\n",
    "# Correlación entre Pclass y Fare\n",
    "df.select(corr(\"Pclass\", \"Fare\")).show()\n",
    "\n",
    "# Tabla de contingencia entre Pclass y Survived\n",
    "df.crosstab(\"Pclass\", \"Survived\").show()"
   ]
  },
  {
   "cell_type": "markdown",
   "id": "e0223dc4",
   "metadata": {},
   "source": [
    "### Comprobación y eliminación de registros repetidos"
   ]
  },
  {
   "cell_type": "code",
   "execution_count": 22,
   "id": "f704fd6e",
   "metadata": {},
   "outputs": [
    {
     "name": "stdout",
     "output_type": "stream",
     "text": [
      "Cantidad de registros duplicados: 0\n"
     ]
    }
   ],
   "source": [
    "# Contar la cantidad de registros duplicados en el DataFrame\n",
    "duplicates_count = df.count() - df.dropDuplicates().count()\n",
    "print(f\"Cantidad de registros duplicados: {duplicates_count}\")"
   ]
  },
  {
   "cell_type": "code",
   "execution_count": 23,
   "id": "110718ed",
   "metadata": {},
   "outputs": [],
   "source": [
    "# Eliminar registros duplicados y crear un nuevo DataFrame sin duplicados\n",
    "df_sin_duplicados = df.dropDuplicates()"
   ]
  },
  {
   "cell_type": "code",
   "execution_count": 24,
   "id": "40ee8b2f",
   "metadata": {},
   "outputs": [
    {
     "name": "stdout",
     "output_type": "stream",
     "text": [
      "+--------+------+--------------------+------+----+-----------------------+-----------------------+-------+\n",
      "|Survived|Pclass|                Name|   Sex| Age|Siblings/Spouses Aboard|Parents/Children Aboard|   Fare|\n",
      "+--------+------+--------------------+------+----+-----------------------+-----------------------+-------+\n",
      "|       0|     3|Mr. William John ...|  male|30.0|                      0|                      0|   8.05|\n",
      "|       0|     2|   Mr. Emile Richard|  male|23.0|                      0|                      0|15.0458|\n",
      "|       0|     3|Miss. Jeannie Lef...|female| 8.0|                      3|                      1|25.4667|\n",
      "|       1|     1|  Mr. George Bradley|  male|37.0|                      0|                      0|  26.55|\n",
      "|       0|     1|Mr. Charles H Har...|  male|37.0|                      0|                      0|   42.4|\n",
      "|       0|     2|Mr. Ennis Hasting...|  male|19.0|                      0|                      0|    0.0|\n",
      "|       0|     1|Capt. Edward Giff...|  male|70.0|                      1|                      1|   71.0|\n",
      "|       0|     2| Mr. Ambrose Jr Hood|  male|21.0|                      0|                      0|   73.5|\n",
      "|       1|     3|Miss. Brigdet Del...|female|31.0|                      0|                      0| 7.7875|\n",
      "|       0|     1|Mr. Stephen Weart...|  male|45.0|                      0|                      0|   35.5|\n",
      "|       1|     3|    Mr. Carl Jonsson|  male|32.0|                      0|                      0| 7.8542|\n",
      "|       0|     3|Mr. Owen George A...|  male|18.0|                      0|                      0|    8.3|\n",
      "|       1|     1|Miss. Helen Monyp...|female|19.0|                      0|                      2|26.2833|\n",
      "|       0|     1|Mr. Wyckoff Van d...|  male|61.0|                      0|                      0|   33.5|\n",
      "|       0|     1|Mr. Hugh Roscoe Rood|  male|39.0|                      0|                      0|   50.0|\n",
      "|       1|     2|Miss. Simonne Mar...|female| 3.0|                      1|                      2|41.5792|\n",
      "|       0|     2|    Mr. Sinai Kantor|  male|34.0|                      1|                      0|   26.0|\n",
      "|       1|     3|Master. Elias Nic...|  male|12.0|                      1|                      0|11.2417|\n",
      "|       1|     3|  Miss. Annie Jermyn|female|22.0|                      0|                      0|   7.75|\n",
      "|       0|     1|  Mr. John Hugo Ross|  male|36.0|                      0|                      0| 40.125|\n",
      "+--------+------+--------------------+------+----+-----------------------+-----------------------+-------+\n",
      "only showing top 20 rows\n",
      "\n"
     ]
    }
   ],
   "source": [
    "# Reemplazar el DataFrame original con el nuevo DataFrame sin duplicados\n",
    "df = df_sin_duplicados\n",
    "df.show()"
   ]
  }
 ],
 "metadata": {
  "kernelspec": {
   "display_name": "pyspark-env",
   "language": "python",
   "name": "pyspark-env"
  },
  "language_info": {
   "codemirror_mode": {
    "name": "ipython",
    "version": 3
   },
   "file_extension": ".py",
   "mimetype": "text/x-python",
   "name": "python",
   "nbconvert_exporter": "python",
   "pygments_lexer": "ipython3",
   "version": "3.11.7"
  }
 },
 "nbformat": 4,
 "nbformat_minor": 5
}
